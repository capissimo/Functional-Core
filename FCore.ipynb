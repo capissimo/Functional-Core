{
 "cells": [
  {
   "cell_type": "code",
   "execution_count": 24,
   "metadata": {},
   "outputs": [],
   "source": [
    "# -*- coding: utf-8 -*-"
   ]
  },
  {
   "cell_type": "markdown",
   "metadata": {},
   "source": [
    "# Глава 14. Основы функционального программирования"
   ]
  },
  {
   "cell_type": "markdown",
   "metadata": {},
   "source": [
    "## 14.2 Оператор lambda, функции map, filter, reduce и другие"
   ]
  },
  {
   "cell_type": "code",
   "execution_count": 25,
   "metadata": {},
   "outputs": [],
   "source": [
    "def standard_function(x, y):\n",
    "    return x + y"
   ]
  },
  {
   "cell_type": "code",
   "execution_count": 26,
   "metadata": {},
   "outputs": [
    {
     "data": {
      "text/plain": [
       "<function __main__.<lambda>>"
      ]
     },
     "execution_count": 26,
     "metadata": {},
     "output_type": "execute_result"
    }
   ],
   "source": [
    "lambda x, y: x + y"
   ]
  },
  {
   "cell_type": "code",
   "execution_count": 27,
   "metadata": {},
   "outputs": [
    {
     "data": {
      "text/plain": [
       "12"
      ]
     },
     "execution_count": 27,
     "metadata": {},
     "output_type": "execute_result"
    }
   ],
   "source": [
    "(lambda x, y: x+y)(5, 7)"
   ]
  },
  {
   "cell_type": "code",
   "execution_count": 28,
   "metadata": {},
   "outputs": [],
   "source": [
    "lambda_function = lambda x, y: x + y"
   ]
  },
  {
   "cell_type": "code",
   "execution_count": 29,
   "metadata": {},
   "outputs": [
    {
     "data": {
      "text/plain": [
       "12"
      ]
     },
     "execution_count": 29,
     "metadata": {},
     "output_type": "execute_result"
    }
   ],
   "source": [
    "lambda_function(5,7)"
   ]
  },
  {
   "cell_type": "code",
   "execution_count": 30,
   "metadata": {},
   "outputs": [],
   "source": [
    "func = lambda_function"
   ]
  },
  {
   "cell_type": "code",
   "execution_count": 31,
   "metadata": {},
   "outputs": [
    {
     "data": {
      "text/plain": [
       "7"
      ]
     },
     "execution_count": 31,
     "metadata": {},
     "output_type": "execute_result"
    }
   ],
   "source": [
    "func(3,4)"
   ]
  },
  {
   "cell_type": "code",
   "execution_count": 33,
   "metadata": {},
   "outputs": [],
   "source": [
    "dic = {'функция1': lambda_function}"
   ]
  },
  {
   "cell_type": "code",
   "execution_count": 34,
   "metadata": {},
   "outputs": [
    {
     "data": {
      "text/plain": [
       "15"
      ]
     },
     "execution_count": 34,
     "metadata": {},
     "output_type": "execute_result"
    }
   ],
   "source": [
    "dic['функция1'](7,8)"
   ]
  },
  {
   "cell_type": "code",
   "execution_count": 35,
   "metadata": {},
   "outputs": [
    {
     "data": {
      "text/plain": [
       "<map at 0x1d074a31f60>"
      ]
     },
     "execution_count": 35,
     "metadata": {},
     "output_type": "execute_result"
    }
   ],
   "source": [
    "seq = (1, 2, 3, 4, 5, 6, 7, 8, 9)\n",
    "seq2 = (5, 6, 7, 8, 9, 0, 3, 2, 1)\n",
    "result = map(func, seq, seq2)\n",
    "result"
   ]
  },
  {
   "cell_type": "code",
   "execution_count": 36,
   "metadata": {},
   "outputs": [
    {
     "data": {
      "text/plain": [
       "[6, 8, 10, 12, 14, 6, 10, 10, 10]"
      ]
     },
     "execution_count": 36,
     "metadata": {},
     "output_type": "execute_result"
    }
   ],
   "source": [
    "list(result)"
   ]
  },
  {
   "cell_type": "code",
   "execution_count": 38,
   "metadata": {},
   "outputs": [],
   "source": [
    "is_even = lambda x: x % 2 == 0"
   ]
  },
  {
   "cell_type": "code",
   "execution_count": 39,
   "metadata": {},
   "outputs": [
    {
     "data": {
      "text/plain": [
       "[2, 4, 6, 8]"
      ]
     },
     "execution_count": 39,
     "metadata": {},
     "output_type": "execute_result"
    }
   ],
   "source": [
    "seq = (1, 2, 3, 4, 5, 6, 7, 8, 9)\n",
    "filtered = filter(is_even, seq)\n",
    "list(filtered)"
   ]
  },
  {
   "cell_type": "code",
   "execution_count": 41,
   "metadata": {},
   "outputs": [
    {
     "data": {
      "text/plain": [
       "[2, 4, 6, 8]"
      ]
     },
     "execution_count": 41,
     "metadata": {},
     "output_type": "execute_result"
    }
   ],
   "source": [
    "filtered = filter(lambda x: x % 2 == 0, seq)\n",
    "list(filtered)"
   ]
  },
  {
   "cell_type": "code",
   "execution_count": 42,
   "metadata": {},
   "outputs": [],
   "source": [
    "def reduce(fn, seq, initializer=None):\n",
    "    it = iter(seq)\n",
    "    value = next(it) if initializer is None else initializer\n",
    "    for element in it:\n",
    "        value = fn(value, element)\n",
    "    return value"
   ]
  },
  {
   "cell_type": "code",
   "execution_count": 43,
   "metadata": {},
   "outputs": [
    {
     "data": {
      "text/plain": [
       "45"
      ]
     },
     "execution_count": 43,
     "metadata": {},
     "output_type": "execute_result"
    }
   ],
   "source": [
    "seq = (1, 2, 3, 4, 5, 6, 7, 8, 9)\n",
    "get_sum = lambda a, b: a + b\n",
    "summed_numbers = reduce(get_sum, seq)\n",
    "summed_numbers"
   ]
  },
  {
   "cell_type": "code",
   "execution_count": 45,
   "metadata": {},
   "outputs": [
    {
     "data": {
      "text/plain": [
       "13"
      ]
     },
     "execution_count": 45,
     "metadata": {},
     "output_type": "execute_result"
    }
   ],
   "source": [
    "sentences = [\"Варкалось.\", \n",
    "             \"Хливкие шорьки пырялись по наве, и\", \n",
    "             \"хрюкотали зелюки, как мюмзики в мове.\"]\n",
    "wsum = lambda aсс, sentence: aсс + len(sentence.split())\n",
    "number_of_words = reduce(wsum, sentences, 0)\n",
    "number_of_words"
   ]
  },
  {
   "cell_type": "code",
   "execution_count": 46,
   "metadata": {},
   "outputs": [
    {
     "data": {
      "text/plain": [
       "[('а', 'э'), ('б', 'ю'), ('в', 'я')]"
      ]
     },
     "execution_count": 46,
     "metadata": {},
     "output_type": "execute_result"
    }
   ],
   "source": [
    "x = 'абв'\n",
    "y = 'эюя'\n",
    "zipped = zip(x, y)\n",
    "list(zipped)"
   ]
  },
  {
   "cell_type": "code",
   "execution_count": 51,
   "metadata": {},
   "outputs": [
    {
     "data": {
      "text/plain": [
       "('а', 'б', 'в')"
      ]
     },
     "execution_count": 51,
     "metadata": {},
     "output_type": "execute_result"
    }
   ],
   "source": [
    "x2, y2 = zip(*zip(x, y))\n",
    "x2"
   ]
  },
  {
   "cell_type": "code",
   "execution_count": 52,
   "metadata": {},
   "outputs": [
    {
     "data": {
      "text/plain": [
       "('э', 'ю', 'я')"
      ]
     },
     "execution_count": 52,
     "metadata": {},
     "output_type": "execute_result"
    }
   ],
   "source": [
    "y2"
   ]
  },
  {
   "cell_type": "code",
   "execution_count": 49,
   "metadata": {},
   "outputs": [
    {
     "data": {
      "text/plain": [
       "True"
      ]
     },
     "execution_count": 49,
     "metadata": {},
     "output_type": "execute_result"
    }
   ],
   "source": [
    "x == ''.join(x2) and y == ''.join(y2)"
   ]
  },
  {
   "cell_type": "code",
   "execution_count": 4,
   "metadata": {},
   "outputs": [
    {
     "data": {
      "text/plain": [
       "[(0, 'а'), (1, 'б'), (2, 'в')]"
      ]
     },
     "execution_count": 4,
     "metadata": {},
     "output_type": "execute_result"
    }
   ],
   "source": [
    "lazy = enumerate(['а','б','в'])\n",
    "list(lazy)"
   ]
  },
  {
   "cell_type": "code",
   "execution_count": 54,
   "metadata": {},
   "outputs": [
    {
     "data": {
      "text/plain": [
       "['А0', 'Б1', 'В2']"
      ]
     },
     "execution_count": 54,
     "metadata": {},
     "output_type": "execute_result"
    }
   ],
   "source": [
    "convert = lambda x: x[1].upper()+str(x[0])\n",
    "list(map(convert, enumerate(['а','б','в'])))"
   ]
  },
  {
   "cell_type": "markdown",
   "metadata": {},
   "source": [
    "## 14.3 Включение в последовательность"
   ]
  },
  {
   "cell_type": "code",
   "execution_count": 55,
   "metadata": {},
   "outputs": [
    {
     "data": {
      "text/plain": [
       "[1, 4, 9, 16, 25]"
      ]
     },
     "execution_count": 55,
     "metadata": {},
     "output_type": "execute_result"
    }
   ],
   "source": [
    "numbers = [1, 2, 3, 4, 5]\n",
    "squared_numbers = [x*x for x in numbers]\n",
    "squared_numbers"
   ]
  },
  {
   "cell_type": "code",
   "execution_count": 56,
   "metadata": {},
   "outputs": [
    {
     "data": {
      "text/plain": [
       "[1, 4, 9, 16, 25]"
      ]
     },
     "execution_count": 56,
     "metadata": {},
     "output_type": "execute_result"
    }
   ],
   "source": [
    "squared_numbers = []\n",
    "for x in numbers:\n",
    "    squared_numbers.append(x*x)\n",
    "squared_numbers"
   ]
  },
  {
   "cell_type": "code",
   "execution_count": 57,
   "metadata": {},
   "outputs": [
    {
     "data": {
      "text/plain": [
       "[6, 8, 10, 12, 14, 6, 10, 10, 10]"
      ]
     },
     "execution_count": 57,
     "metadata": {},
     "output_type": "execute_result"
    }
   ],
   "source": [
    "seq = (1, 2, 3, 4, 5, 6, 7, 8, 9)\n",
    "seq2 = (5, 6, 7, 8, 9, 0, 3, 2, 1)\n",
    "result = [x+y for x,y in zip(seq, seq2)]\n",
    "result"
   ]
  },
  {
   "cell_type": "code",
   "execution_count": 58,
   "metadata": {},
   "outputs": [
    {
     "data": {
      "text/plain": [
       "[2, 4, 6, 8]"
      ]
     },
     "execution_count": 58,
     "metadata": {},
     "output_type": "execute_result"
    }
   ],
   "source": [
    "result = [x for x in seq if is_even(x)]\n",
    "result"
   ]
  },
  {
   "cell_type": "markdown",
   "metadata": {},
   "source": [
    "## 14.4 Замыкание"
   ]
  },
  {
   "cell_type": "code",
   "execution_count": 78,
   "metadata": {},
   "outputs": [],
   "source": [
    "def adder(n, m):\n",
    "    return n + m"
   ]
  },
  {
   "cell_type": "code",
   "execution_count": 79,
   "metadata": {},
   "outputs": [],
   "source": [
    "def adder(n):\n",
    "    def fn(m):\n",
    "        return n + m\n",
    "    return fn"
   ]
  },
  {
   "cell_type": "code",
   "execution_count": 59,
   "metadata": {},
   "outputs": [],
   "source": [
    "adder = lambda n: lambda m: n + m"
   ]
  },
  {
   "cell_type": "code",
   "execution_count": 60,
   "metadata": {},
   "outputs": [
    {
     "data": {
      "text/plain": [
       "<function __main__.<lambda>.<locals>.<lambda>>"
      ]
     },
     "execution_count": 60,
     "metadata": {},
     "output_type": "execute_result"
    }
   ],
   "source": [
    "sum_three = adder(3)\n",
    "sum_three"
   ]
  },
  {
   "cell_type": "code",
   "execution_count": 61,
   "metadata": {},
   "outputs": [
    {
     "data": {
      "text/plain": [
       "4"
      ]
     },
     "execution_count": 61,
     "metadata": {},
     "output_type": "execute_result"
    }
   ],
   "source": [
    "sum_three(1) "
   ]
  },
  {
   "cell_type": "code",
   "execution_count": 63,
   "metadata": {},
   "outputs": [],
   "source": [
    "def power_generator(base):\n",
    "    return lambda x: pow(x, base)"
   ]
  },
  {
   "cell_type": "code",
   "execution_count": 64,
   "metadata": {},
   "outputs": [
    {
     "data": {
      "text/plain": [
       "4"
      ]
     },
     "execution_count": 64,
     "metadata": {},
     "output_type": "execute_result"
    }
   ],
   "source": [
    "square = power_generator(2)  # функция возведения в квадрат\n",
    "square(2)"
   ]
  },
  {
   "cell_type": "code",
   "execution_count": 65,
   "metadata": {},
   "outputs": [
    {
     "data": {
      "text/plain": [
       "8"
      ]
     },
     "execution_count": 65,
     "metadata": {},
     "output_type": "execute_result"
    }
   ],
   "source": [
    "cube = power_generator(3)    # функция возведения в куб\n",
    "cube(2)"
   ]
  },
  {
   "cell_type": "code",
   "execution_count": 66,
   "metadata": {},
   "outputs": [],
   "source": [
    "COUNT = 0\n",
    "def count_add(x):\n",
    "    global COUNT\n",
    "    COUNT += x\n",
    "    return COUNT"
   ]
  },
  {
   "cell_type": "code",
   "execution_count": 80,
   "metadata": {},
   "outputs": [],
   "source": [
    "def make_adder():\n",
    "    n = 0    \n",
    "    def fn(x):\n",
    "        nonlocal n\n",
    "        n += x\n",
    "        return n\n",
    "    return fn"
   ]
  },
  {
   "cell_type": "code",
   "execution_count": 81,
   "metadata": {},
   "outputs": [
    {
     "name": "stdout",
     "output_type": "stream",
     "text": [
      "5\n",
      "7\n",
      "10\n"
     ]
    }
   ],
   "source": [
    "my_adder = make_adder()\n",
    "print(my_adder(5))     # напечатает 5\n",
    "print(my_adder(2))     # напечатает 7 (5 + 2)\n",
    "print(my_adder(3))     # напечатает 10 (5 + 2 + 3)"
   ]
  },
  {
   "cell_type": "markdown",
   "metadata": {},
   "source": [
    "## 14.5 Функциональное ядро программы на основе конвейера"
   ]
  },
  {
   "cell_type": "code",
   "execution_count": 69,
   "metadata": {},
   "outputs": [],
   "source": [
    "# Конвейер обработки данных\n",
    "\n",
    "def pipe(data, *fseq):\n",
    "    for fn in fseq: \n",
    "        data = fn(data)\n",
    "    return data"
   ]
  },
  {
   "cell_type": "code",
   "execution_count": 2,
   "metadata": {},
   "outputs": [
    {
     "data": {
      "text/plain": [
       "'49'"
      ]
     },
     "execution_count": 2,
     "metadata": {},
     "output_type": "execute_result"
    }
   ],
   "source": [
    "pipe(2,\n",
    "     lambda x: x + 5,\n",
    "     lambda x: x * x,\n",
    "     lambda x: str(x))"
   ]
  },
  {
   "cell_type": "markdown",
   "metadata": {},
   "source": [
    "### Программа 14.1 (factorial_functional.py)"
   ]
  },
  {
   "cell_type": "code",
   "execution_count": 3,
   "metadata": {},
   "outputs": [
    {
     "name": "stdout",
     "output_type": "stream",
     "text": [
      "Введите неотрицательное целое число: 4\n",
      "Факториал числа 4 равняется 24\n"
     ]
    }
   ],
   "source": [
    "# Эта программа демонстрирует \n",
    "# функциональную версию функции factorial из главы 12\n",
    "\n",
    "def pipe(data, *fseq):\n",
    "    for fn in fseq: \n",
    "        data = fn(data)\n",
    "    return data\n",
    "\n",
    "def reduce(fn, seq, initializer=None):\n",
    "    it = iter(seq)\n",
    "    value = next(it) if initializer is None else initializer\n",
    "    for element in it:\n",
    "        value = fn(value, element)\n",
    "    return value\n",
    "\n",
    "def main():\n",
    "    # Конвейер (функциональное ядро c нерекурсивным алгоритмом факториала)\n",
    "    pipe(int(input('Введите неотрицательное целое число: ')),    \n",
    "         lambda n: (n, reduce(lambda x, y: x * y, range(1, n + 1))),    \n",
    "         lambda tup: \n",
    "             print(f'Факториал числа {tup[0]} равняется {tup[1]}'))        \n",
    "\n",
    "# Вызвать главную функцию\n",
    "main()"
   ]
  },
  {
   "cell_type": "markdown",
   "metadata": {},
   "source": [
    "### Программа 14.2 (factorial_functional2.py)"
   ]
  },
  {
   "cell_type": "code",
   "execution_count": 82,
   "metadata": {},
   "outputs": [
    {
     "name": "stdout",
     "output_type": "stream",
     "text": [
      "Введите неотрицательное целое число: 4\n",
      "Факториал числа 4 равняется 24\n"
     ]
    }
   ],
   "source": [
    "# Эта программа демонстрирует \n",
    "# функциональную версию функции factorial из главы 12\n",
    "\n",
    "def pipe(data, *fseq):\n",
    "    for fn in fseq: \n",
    "        data = fn(data)\n",
    "    return data\n",
    "\n",
    "def reduce(fn, seq, initializer=None):\n",
    "    it = iter(seq)\n",
    "    value = next(it) if initializer is None else initializer\n",
    "    for element in it:\n",
    "        value = fn(value, element)\n",
    "    return value\n",
    "\n",
    "def get_int(msg=''):\n",
    "    return int(input(msg))\n",
    "\n",
    "def main():\n",
    "    # Алгоритм 1. Рекурсивная версия с хвостовой рекурсией\n",
    "    def factorial_rec(n): \n",
    "        fn = lambda n, acc=1: acc if n == 0 else fn(n - 1, acc * n)\n",
    "        return n, fn(n) \n",
    "    \n",
    "    # Алгоритм 2. Нерекурсивная версия\n",
    "    def factorial(n):  \n",
    "        return n, reduce(lambda x, y: x * y, range(1, n + 1)) \n",
    "    \n",
    "    # Ввод данных\n",
    "    def indata():\n",
    "        def validate(n):  # Валидация входных данных\n",
    "            if not isinstance(n, int):\n",
    "                raise TypeError(\"Число должно быть целым.\")\n",
    "            if not n >= 0:\n",
    "                raise ValueError(\"Число должно быть >= 0.\")\n",
    "            return n        \n",
    "        msg = 'Введите неотрицательное целое число: '\n",
    "        return pipe(get_int(msg), validate)\n",
    "    \n",
    "    # Вывод данных\n",
    "    def outdata():\n",
    "        def fn(data):\n",
    "            n, fact = data\n",
    "            print(f'Факториал числа {n} равняется {fact}') \n",
    "        return fn\n",
    " \n",
    "    # Конвейер (функциональное ядро)\n",
    "    pipe(indata(),     # вход: -       выход: int\n",
    "         factorial,    # вход: int     выход: кортеж\n",
    "         outdata())    # вход: кортеж  выход: -\n",
    "    \n",
    "# Вызвать главную функцию\n",
    "main()"
   ]
  },
  {
   "cell_type": "markdown",
   "metadata": {},
   "source": [
    "### Программа 14.3 (fibonacci_functional.py)"
   ]
  },
  {
   "cell_type": "code",
   "execution_count": 75,
   "metadata": {},
   "outputs": [
    {
     "name": "stdout",
     "output_type": "stream",
     "text": [
      "Введите неотрицательное целое число не больше 10: 10\n",
      "Первые 10 чисел последовательности Фибоначчи:\n",
      "1\n",
      "1\n",
      "2\n",
      "3\n",
      "5\n",
      "8\n",
      "13\n",
      "21\n",
      "34\n",
      "55\n"
     ]
    }
   ],
   "source": [
    "# Эта программа демонстрирует \n",
    "# функциональную версию функции fibonacci из главы 12\n",
    "\n",
    "def pipe(data, *fseq):\n",
    "    for fn in fseq: \n",
    "        data = fn(data)\n",
    "    return data\n",
    "\n",
    "def reduce(fn, seq, initializer=None):\n",
    "    it = iter(seq)\n",
    "    value = next(it) if initializer is None else initializer\n",
    "    for element in it:\n",
    "        value = fn(value, element)\n",
    "    return value\n",
    "\n",
    "def main():\n",
    "    # Алгоритм\n",
    "    def fibonacci(n, x=0, y=1):\n",
    "        # Функция fib возвращает n-ое число последовательности.\n",
    "        fib = lambda n, x=0, y=1: x if n <= 0 else fib(n - 1, y, x + y)\n",
    "        # Функция reduce собирает результаты в список acc\n",
    "        acc = []\n",
    "        reduce(lambda _, y: acc.append(fib(y)), range(n + 1))\n",
    "        return n, acc\n",
    "    \n",
    "    # Валидация входных данных\n",
    "    def validate(n):         \n",
    "        if not isinstance(n, int):\n",
    "            raise TypeError(\"Число должно быть целым.\")\n",
    "        if not n >= 0:\n",
    "            raise ValueError(\"Число должно быть ноль положитель-ным.\")\n",
    "        if n > 10:\n",
    "            raise ValueError(\"Число должно быть не больше 10.\")\n",
    "        return n\n",
    "    \n",
    "    # Ввод данных\n",
    "    def indata():\n",
    "        msg = 'Введите неотрицательное целое число не больше 10: '\n",
    "        return pipe(get_int(msg), validate)\n",
    "    \n",
    "    # Вывод данных\n",
    "    def outdata():\n",
    "        def fn(data):\n",
    "            n, seq = data\n",
    "            msg = f'Первые {n} чисел последовательности Фибоначчи:'\n",
    "            print(msg) \n",
    "            [print(el) for el in seq]\n",
    "        return fn\n",
    "\n",
    "    # Конвейер (функциональное ядро)\n",
    "    pipe(indata(), fibonacci, outdata()) \n",
    "\n",
    "# Вызвать главную функцию.\n",
    "main()"
   ]
  },
  {
   "cell_type": "markdown",
   "metadata": {},
   "source": [
    "### Программа 14.4 (range_sum_functional.py)"
   ]
  },
  {
   "cell_type": "code",
   "execution_count": 76,
   "metadata": {},
   "outputs": [
    {
     "name": "stdout",
     "output_type": "stream",
     "text": [
      "Сумма значений со 2 по 5 позиции равняется 18\n"
     ]
    }
   ],
   "source": [
    "# Эта программа демонстрирует \n",
    "# функциональную версию функции range_sum из главы 12\n",
    "\n",
    "def pipe(data, *fseq):\n",
    "    for fn in fseq: \n",
    "        data = fn(data)\n",
    "    return data\n",
    "\n",
    "def main():\n",
    "    # Алгоритм\n",
    "    def range_sum(data):  \n",
    "        seq, params = data\n",
    "        fn = lambda start, end: 0 if start > end \\\n",
    "                                  else seq[start] + fn(start + 1, end)\n",
    "        return fn(*params)\n",
    "\n",
    "    # Ввод данных\n",
    "    def indata():\n",
    "        seq = [1, 2, 3, 4, 5, 6, 7, 8, 9]    \n",
    "        params = (2,5)   # params - это параметры start, end\n",
    "        return seq, params  \n",
    "    \n",
    "    # Вывод данных\n",
    "    def outdata():\n",
    "        def f(data):\n",
    "            msg = 'Сумма значений со 2 по 5 позиции равняется '\n",
    "            print(msg, format(data), sep='') \n",
    "        return f\n",
    "    \n",
    "    # Конвейер (функциональное ядро)\n",
    "    pipe(indata(), range_sum, outdata()) \n",
    "\n",
    "# Вызвать главную функцию.\n",
    "main()"
   ]
  },
  {
   "cell_type": "code",
   "execution_count": null,
   "metadata": {},
   "outputs": [],
   "source": []
  }
 ],
 "metadata": {
  "kernelspec": {
   "display_name": "Python 3",
   "language": "python",
   "name": "python3"
  },
  "language_info": {
   "codemirror_mode": {
    "name": "ipython",
    "version": 3
   },
   "file_extension": ".py",
   "mimetype": "text/x-python",
   "name": "python",
   "nbconvert_exporter": "python",
   "pygments_lexer": "ipython3",
   "version": "3.6.4"
  }
 },
 "nbformat": 4,
 "nbformat_minor": 2
}
